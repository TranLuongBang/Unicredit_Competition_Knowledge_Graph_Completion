{
  "nbformat": 4,
  "nbformat_minor": 0,
  "metadata": {
    "colab": {
      "name": "VIN_Team.ipynb",
      "provenance": [],
      "collapsed_sections": []
    },
    "kernelspec": {
      "name": "python3",
      "display_name": "Python 3"
    },
    "language_info": {
      "name": "python"
    },
    "accelerator": "GPU"
  },
  "cells": [
    {
      "cell_type": "markdown",
      "metadata": {
        "id": "0k08J_lqQo5S"
      },
      "source": [
        "# **Unicredit Training Camp 2021**\n",
        "**Team: VIN**\n",
        "* Gaurav Mohan Ramse - 1965564\n",
        "* Tran Luong Bang - 1956419\n",
        "\n",
        "**Knowledge Graph Embedding - AmpliGraph library**\n",
        "\n",
        "We have embedded graph with **TransE, CompLex and ConvKB** Model by using AmpliGraph library.\n",
        "\n",
        "**Triple Classification**\n",
        "\n",
        "To classify triples to positive or negative, we have trained model with neural network(NN)\n",
        "\n",
        "**Result: TransE and NN return the best result**\n",
        "\n",
        "**Score: 0.875**"
      ]
    },
    {
      "cell_type": "markdown",
      "metadata": {
        "id": "lv3nGW_pmxTB"
      },
      "source": [
        "# Install Libraries"
      ]
    },
    {
      "cell_type": "code",
      "metadata": {
        "id": "NN0YfS0dNzI1"
      },
      "source": [
        "# Install AmpliGraph library\n",
        "! pip install ampligraph"
      ],
      "execution_count": null,
      "outputs": []
    },
    {
      "cell_type": "markdown",
      "metadata": {
        "id": "ekm4AzFYm4cK"
      },
      "source": [
        "# Import Libraries"
      ]
    },
    {
      "cell_type": "code",
      "metadata": {
        "colab": {
          "base_uri": "https://localhost:8080/"
        },
        "id": "mdFe596gOIUf",
        "outputId": "3415e5f1-5d19-4681-86e0-15e0e6ca1ec3"
      },
      "source": [
        "%tensorflow_version 1.x\n",
        "import ampligraph\n",
        "import numpy as np\n",
        "import pandas as pd\n",
        "import tensorflow as tf\n",
        "from ampligraph.latent_features import TransE, ComplEx, HolE, DistMult, ConvE, ConvKB\n",
        "from ampligraph.utils import save_model, restore_model\n",
        "import matplotlib.pyplot as plt\n",
        "import sklearn\n",
        "# Keras specific\n",
        "import keras\n",
        "from keras.models import Sequential\n",
        "from keras.layers import Dense,Activation\n",
        "\n",
        "\n",
        "from ampligraph.utils import save_model, restore_model"
      ],
      "execution_count": null,
      "outputs": [
        {
          "output_type": "stream",
          "text": [
            "TensorFlow 1.x selected.\n"
          ],
          "name": "stdout"
        },
        {
          "output_type": "stream",
          "text": [
            "Using TensorFlow backend.\n"
          ],
          "name": "stderr"
        }
      ]
    },
    {
      "cell_type": "code",
      "metadata": {
        "colab": {
          "base_uri": "https://localhost:8080/"
        },
        "id": "07m6Jx0fOMzK",
        "outputId": "ade375b1-139c-4724-f1f8-6f0d0494cdab"
      },
      "source": [
        "# Connect data from google drive\n",
        "from google.colab import drive\n",
        "drive.mount('/content/drive')"
      ],
      "execution_count": null,
      "outputs": [
        {
          "output_type": "stream",
          "text": [
            "Mounted at /content/drive\n"
          ],
          "name": "stdout"
        }
      ]
    },
    {
      "cell_type": "markdown",
      "metadata": {
        "id": "y9Hd-oCzo9mG"
      },
      "source": [
        "### Data Processing"
      ]
    },
    {
      "cell_type": "code",
      "metadata": {
        "id": "I_d-oqg3nH1Z"
      },
      "source": [
        "train_valid_path = '/content/drive/MyDrive/Unicredit/kg_trainvalidation.csv'\n",
        "test_data_path = '/content/drive/MyDrive/Unicredit/kg_test_nolabel.csv'"
      ],
      "execution_count": null,
      "outputs": []
    },
    {
      "cell_type": "code",
      "metadata": {
        "id": "987ZK978N_WX"
      },
      "source": [
        "# read train validation dataset\n",
        "train_valid_data = pd.read_csv(train_valid_path, sep=',')\n",
        "\n",
        "# create head column from Triple\n",
        "train_valid_data['head'] = train_valid_data.apply(lambda row: row.Triple.split(' ')[0], axis=1)\n",
        "\n",
        "# create relation column from Triple\n",
        "train_valid_data['relation'] = train_valid_data.apply(lambda row: row.Triple.split(' ')[1], axis=1)\n",
        "\n",
        "# create relation column from Triple\n",
        "train_valid_data['tail'] = train_valid_data.apply(lambda row: row.Triple.split(' ')[2], axis=1)\n",
        "train_valid = train_valid_data[['Id','head', 'relation', 'tail']]"
      ],
      "execution_count": null,
      "outputs": []
    },
    {
      "cell_type": "code",
      "metadata": {
        "id": "PxbmZTtKOfFW",
        "colab": {
          "base_uri": "https://localhost:8080/",
          "height": 420
        },
        "outputId": "7a426ebf-ed2c-4615-cd2b-79d1d44a3f7a"
      },
      "source": [
        "train_valid_data"
      ],
      "execution_count": null,
      "outputs": [
        {
          "output_type": "execute_result",
          "data": {
            "text/html": [
              "<div>\n",
              "<style scoped>\n",
              "    .dataframe tbody tr th:only-of-type {\n",
              "        vertical-align: middle;\n",
              "    }\n",
              "\n",
              "    .dataframe tbody tr th {\n",
              "        vertical-align: top;\n",
              "    }\n",
              "\n",
              "    .dataframe thead th {\n",
              "        text-align: right;\n",
              "    }\n",
              "</style>\n",
              "<table border=\"1\" class=\"dataframe\">\n",
              "  <thead>\n",
              "    <tr style=\"text-align: right;\">\n",
              "      <th></th>\n",
              "      <th>Id</th>\n",
              "      <th>Triple</th>\n",
              "      <th>Label</th>\n",
              "      <th>head</th>\n",
              "      <th>relation</th>\n",
              "      <th>tail</th>\n",
              "    </tr>\n",
              "  </thead>\n",
              "  <tbody>\n",
              "    <tr>\n",
              "      <th>0</th>\n",
              "      <td>0</td>\n",
              "      <td>34881 intercommunality 14230</td>\n",
              "      <td>0</td>\n",
              "      <td>34881</td>\n",
              "      <td>intercommunality</td>\n",
              "      <td>14230</td>\n",
              "    </tr>\n",
              "    <tr>\n",
              "      <th>1</th>\n",
              "      <td>1</td>\n",
              "      <td>9387 ownerOper 39573</td>\n",
              "      <td>0</td>\n",
              "      <td>9387</td>\n",
              "      <td>ownerOper</td>\n",
              "      <td>39573</td>\n",
              "    </tr>\n",
              "    <tr>\n",
              "      <th>2</th>\n",
              "      <td>2</td>\n",
              "      <td>12480 coach 24064</td>\n",
              "      <td>0</td>\n",
              "      <td>12480</td>\n",
              "      <td>coach</td>\n",
              "      <td>24064</td>\n",
              "    </tr>\n",
              "    <tr>\n",
              "      <th>3</th>\n",
              "      <td>3</td>\n",
              "      <td>6871 branches 22010</td>\n",
              "      <td>0</td>\n",
              "      <td>6871</td>\n",
              "      <td>branches</td>\n",
              "      <td>22010</td>\n",
              "    </tr>\n",
              "    <tr>\n",
              "      <th>4</th>\n",
              "      <td>4</td>\n",
              "      <td>13789 damsire 33095</td>\n",
              "      <td>0</td>\n",
              "      <td>13789</td>\n",
              "      <td>damsire</td>\n",
              "      <td>33095</td>\n",
              "    </tr>\n",
              "    <tr>\n",
              "      <th>...</th>\n",
              "      <td>...</td>\n",
              "      <td>...</td>\n",
              "      <td>...</td>\n",
              "      <td>...</td>\n",
              "      <td>...</td>\n",
              "      <td>...</td>\n",
              "    </tr>\n",
              "    <tr>\n",
              "      <th>114749</th>\n",
              "      <td>114749</td>\n",
              "      <td>13283 nearSw 30936</td>\n",
              "      <td>0</td>\n",
              "      <td>13283</td>\n",
              "      <td>nearSw</td>\n",
              "      <td>30936</td>\n",
              "    </tr>\n",
              "    <tr>\n",
              "      <th>114750</th>\n",
              "      <td>114750</td>\n",
              "      <td>12592 officiallang 11190</td>\n",
              "      <td>0</td>\n",
              "      <td>12592</td>\n",
              "      <td>officiallang</td>\n",
              "      <td>11190</td>\n",
              "    </tr>\n",
              "    <tr>\n",
              "      <th>114751</th>\n",
              "      <td>114751</td>\n",
              "      <td>30904 nearNe 17034</td>\n",
              "      <td>0</td>\n",
              "      <td>30904</td>\n",
              "      <td>nearNe</td>\n",
              "      <td>17034</td>\n",
              "    </tr>\n",
              "    <tr>\n",
              "      <th>114752</th>\n",
              "      <td>114752</td>\n",
              "      <td>21968 statlabel 4930</td>\n",
              "      <td>0</td>\n",
              "      <td>21968</td>\n",
              "      <td>statlabel</td>\n",
              "      <td>4930</td>\n",
              "    </tr>\n",
              "    <tr>\n",
              "      <th>114753</th>\n",
              "      <td>114753</td>\n",
              "      <td>41309 route 9335</td>\n",
              "      <td>0</td>\n",
              "      <td>41309</td>\n",
              "      <td>route</td>\n",
              "      <td>9335</td>\n",
              "    </tr>\n",
              "  </tbody>\n",
              "</table>\n",
              "<p>114754 rows × 6 columns</p>\n",
              "</div>"
            ],
            "text/plain": [
              "            Id                        Triple  ...          relation   tail\n",
              "0            0  34881 intercommunality 14230  ...  intercommunality  14230\n",
              "1            1          9387 ownerOper 39573  ...         ownerOper  39573\n",
              "2            2             12480 coach 24064  ...             coach  24064\n",
              "3            3           6871 branches 22010  ...          branches  22010\n",
              "4            4           13789 damsire 33095  ...           damsire  33095\n",
              "...        ...                           ...  ...               ...    ...\n",
              "114749  114749            13283 nearSw 30936  ...            nearSw  30936\n",
              "114750  114750      12592 officiallang 11190  ...      officiallang  11190\n",
              "114751  114751            30904 nearNe 17034  ...            nearNe  17034\n",
              "114752  114752          21968 statlabel 4930  ...         statlabel   4930\n",
              "114753  114753              41309 route 9335  ...             route   9335\n",
              "\n",
              "[114754 rows x 6 columns]"
            ]
          },
          "metadata": {
            "tags": []
          },
          "execution_count": 6
        }
      ]
    },
    {
      "cell_type": "code",
      "metadata": {
        "id": "Oh55YnxlOgoH"
      },
      "source": [
        "# read test dataset\n",
        "test_data = pd.read_csv(test_data_path, sep=',')\n",
        "\n",
        "# create head column from Triple\n",
        "test_data['head'] = test_data.apply(lambda row: row.Triple.split(' ')[0], axis=1)\n",
        "\n",
        "# create relation column from Triple\n",
        "test_data['relation'] = test_data.apply(lambda row: row.Triple.split(' ')[1], axis=1)\n",
        "\n",
        "# create relation column from Triple\n",
        "test_data['tail'] = test_data.apply(lambda row: row.Triple.split(' ')[2], axis=1)\n",
        "test = test_data[['Id','head', 'relation', 'tail']]"
      ],
      "execution_count": null,
      "outputs": []
    },
    {
      "cell_type": "code",
      "metadata": {
        "id": "JI1SxA7-Ok7E",
        "colab": {
          "base_uri": "https://localhost:8080/",
          "height": 420
        },
        "outputId": "4c1507b5-fee6-4dfb-d0d3-920771cc8cea"
      },
      "source": [
        "test_data"
      ],
      "execution_count": null,
      "outputs": [
        {
          "output_type": "execute_result",
          "data": {
            "text/html": [
              "<div>\n",
              "<style scoped>\n",
              "    .dataframe tbody tr th:only-of-type {\n",
              "        vertical-align: middle;\n",
              "    }\n",
              "\n",
              "    .dataframe tbody tr th {\n",
              "        vertical-align: top;\n",
              "    }\n",
              "\n",
              "    .dataframe thead th {\n",
              "        text-align: right;\n",
              "    }\n",
              "</style>\n",
              "<table border=\"1\" class=\"dataframe\">\n",
              "  <thead>\n",
              "    <tr style=\"text-align: right;\">\n",
              "      <th></th>\n",
              "      <th>Id</th>\n",
              "      <th>Triple</th>\n",
              "      <th>head</th>\n",
              "      <th>relation</th>\n",
              "      <th>tail</th>\n",
              "    </tr>\n",
              "  </thead>\n",
              "  <tbody>\n",
              "    <tr>\n",
              "      <th>0</th>\n",
              "      <td>114754</td>\n",
              "      <td>1322 operatingSystem 14477</td>\n",
              "      <td>1322</td>\n",
              "      <td>operatingSystem</td>\n",
              "      <td>14477</td>\n",
              "    </tr>\n",
              "    <tr>\n",
              "      <th>1</th>\n",
              "      <td>114755</td>\n",
              "      <td>5210 parent 11412</td>\n",
              "      <td>5210</td>\n",
              "      <td>parent</td>\n",
              "      <td>11412</td>\n",
              "    </tr>\n",
              "    <tr>\n",
              "      <th>2</th>\n",
              "      <td>114756</td>\n",
              "      <td>38658 leadersSeat 35321</td>\n",
              "      <td>38658</td>\n",
              "      <td>leadersSeat</td>\n",
              "      <td>35321</td>\n",
              "    </tr>\n",
              "    <tr>\n",
              "      <th>3</th>\n",
              "      <td>114757</td>\n",
              "      <td>41457 cableServ 4591</td>\n",
              "      <td>41457</td>\n",
              "      <td>cableServ</td>\n",
              "      <td>4591</td>\n",
              "    </tr>\n",
              "    <tr>\n",
              "      <th>4</th>\n",
              "      <td>114758</td>\n",
              "      <td>21579 visitorConference 214</td>\n",
              "      <td>21579</td>\n",
              "      <td>visitorConference</td>\n",
              "      <td>214</td>\n",
              "    </tr>\n",
              "    <tr>\n",
              "      <th>...</th>\n",
              "      <td>...</td>\n",
              "      <td>...</td>\n",
              "      <td>...</td>\n",
              "      <td>...</td>\n",
              "      <td>...</td>\n",
              "    </tr>\n",
              "    <tr>\n",
              "      <th>28685</th>\n",
              "      <td>143439</td>\n",
              "      <td>10381 constell 17241</td>\n",
              "      <td>10381</td>\n",
              "      <td>constell</td>\n",
              "      <td>17241</td>\n",
              "    </tr>\n",
              "    <tr>\n",
              "      <th>28686</th>\n",
              "      <td>143440</td>\n",
              "      <td>37871 postgroup 13781</td>\n",
              "      <td>37871</td>\n",
              "      <td>postgroup</td>\n",
              "      <td>13781</td>\n",
              "    </tr>\n",
              "    <tr>\n",
              "      <th>28687</th>\n",
              "      <td>143441</td>\n",
              "      <td>745 areaCodeType 43060</td>\n",
              "      <td>745</td>\n",
              "      <td>areaCodeType</td>\n",
              "      <td>43060</td>\n",
              "    </tr>\n",
              "    <tr>\n",
              "      <th>28688</th>\n",
              "      <td>143442</td>\n",
              "      <td>2613 visitorConference 80</td>\n",
              "      <td>2613</td>\n",
              "      <td>visitorConference</td>\n",
              "      <td>80</td>\n",
              "    </tr>\n",
              "    <tr>\n",
              "      <th>28689</th>\n",
              "      <td>143443</td>\n",
              "      <td>15342 constituencyWestminster 22605</td>\n",
              "      <td>15342</td>\n",
              "      <td>constituencyWestminster</td>\n",
              "      <td>22605</td>\n",
              "    </tr>\n",
              "  </tbody>\n",
              "</table>\n",
              "<p>28690 rows × 5 columns</p>\n",
              "</div>"
            ],
            "text/plain": [
              "           Id  ...   tail\n",
              "0      114754  ...  14477\n",
              "1      114755  ...  11412\n",
              "2      114756  ...  35321\n",
              "3      114757  ...   4591\n",
              "4      114758  ...    214\n",
              "...       ...  ...    ...\n",
              "28685  143439  ...  17241\n",
              "28686  143440  ...  13781\n",
              "28687  143441  ...  43060\n",
              "28688  143442  ...     80\n",
              "28689  143443  ...  22605\n",
              "\n",
              "[28690 rows x 5 columns]"
            ]
          },
          "metadata": {
            "tags": []
          },
          "execution_count": 8
        }
      ]
    },
    {
      "cell_type": "code",
      "metadata": {
        "colab": {
          "base_uri": "https://localhost:8080/",
          "height": 420
        },
        "id": "6_VkwnJHOpF7",
        "outputId": "ccb175e2-faa4-4ddb-d866-fc64bec2f060"
      },
      "source": [
        "# Concate train, validation and test dataset\n",
        "all_data = pd.concat([train_valid, test])\n",
        "all_data"
      ],
      "execution_count": null,
      "outputs": [
        {
          "output_type": "execute_result",
          "data": {
            "text/html": [
              "<div>\n",
              "<style scoped>\n",
              "    .dataframe tbody tr th:only-of-type {\n",
              "        vertical-align: middle;\n",
              "    }\n",
              "\n",
              "    .dataframe tbody tr th {\n",
              "        vertical-align: top;\n",
              "    }\n",
              "\n",
              "    .dataframe thead th {\n",
              "        text-align: right;\n",
              "    }\n",
              "</style>\n",
              "<table border=\"1\" class=\"dataframe\">\n",
              "  <thead>\n",
              "    <tr style=\"text-align: right;\">\n",
              "      <th></th>\n",
              "      <th>Id</th>\n",
              "      <th>head</th>\n",
              "      <th>relation</th>\n",
              "      <th>tail</th>\n",
              "    </tr>\n",
              "  </thead>\n",
              "  <tbody>\n",
              "    <tr>\n",
              "      <th>0</th>\n",
              "      <td>0</td>\n",
              "      <td>34881</td>\n",
              "      <td>intercommunality</td>\n",
              "      <td>14230</td>\n",
              "    </tr>\n",
              "    <tr>\n",
              "      <th>1</th>\n",
              "      <td>1</td>\n",
              "      <td>9387</td>\n",
              "      <td>ownerOper</td>\n",
              "      <td>39573</td>\n",
              "    </tr>\n",
              "    <tr>\n",
              "      <th>2</th>\n",
              "      <td>2</td>\n",
              "      <td>12480</td>\n",
              "      <td>coach</td>\n",
              "      <td>24064</td>\n",
              "    </tr>\n",
              "    <tr>\n",
              "      <th>3</th>\n",
              "      <td>3</td>\n",
              "      <td>6871</td>\n",
              "      <td>branches</td>\n",
              "      <td>22010</td>\n",
              "    </tr>\n",
              "    <tr>\n",
              "      <th>4</th>\n",
              "      <td>4</td>\n",
              "      <td>13789</td>\n",
              "      <td>damsire</td>\n",
              "      <td>33095</td>\n",
              "    </tr>\n",
              "    <tr>\n",
              "      <th>...</th>\n",
              "      <td>...</td>\n",
              "      <td>...</td>\n",
              "      <td>...</td>\n",
              "      <td>...</td>\n",
              "    </tr>\n",
              "    <tr>\n",
              "      <th>28685</th>\n",
              "      <td>143439</td>\n",
              "      <td>10381</td>\n",
              "      <td>constell</td>\n",
              "      <td>17241</td>\n",
              "    </tr>\n",
              "    <tr>\n",
              "      <th>28686</th>\n",
              "      <td>143440</td>\n",
              "      <td>37871</td>\n",
              "      <td>postgroup</td>\n",
              "      <td>13781</td>\n",
              "    </tr>\n",
              "    <tr>\n",
              "      <th>28687</th>\n",
              "      <td>143441</td>\n",
              "      <td>745</td>\n",
              "      <td>areaCodeType</td>\n",
              "      <td>43060</td>\n",
              "    </tr>\n",
              "    <tr>\n",
              "      <th>28688</th>\n",
              "      <td>143442</td>\n",
              "      <td>2613</td>\n",
              "      <td>visitorConference</td>\n",
              "      <td>80</td>\n",
              "    </tr>\n",
              "    <tr>\n",
              "      <th>28689</th>\n",
              "      <td>143443</td>\n",
              "      <td>15342</td>\n",
              "      <td>constituencyWestminster</td>\n",
              "      <td>22605</td>\n",
              "    </tr>\n",
              "  </tbody>\n",
              "</table>\n",
              "<p>143444 rows × 4 columns</p>\n",
              "</div>"
            ],
            "text/plain": [
              "           Id   head                 relation   tail\n",
              "0           0  34881         intercommunality  14230\n",
              "1           1   9387                ownerOper  39573\n",
              "2           2  12480                    coach  24064\n",
              "3           3   6871                 branches  22010\n",
              "4           4  13789                  damsire  33095\n",
              "...       ...    ...                      ...    ...\n",
              "28685  143439  10381                 constell  17241\n",
              "28686  143440  37871                postgroup  13781\n",
              "28687  143441    745             areaCodeType  43060\n",
              "28688  143442   2613        visitorConference     80\n",
              "28689  143443  15342  constituencyWestminster  22605\n",
              "\n",
              "[143444 rows x 4 columns]"
            ]
          },
          "metadata": {
            "tags": []
          },
          "execution_count": 9
        }
      ]
    },
    {
      "cell_type": "markdown",
      "metadata": {
        "id": "KtHZVKPupDG4"
      },
      "source": [
        "### Knowledge Graph Embedding"
      ]
    },
    {
      "cell_type": "code",
      "metadata": {
        "id": "tbT6FkMwOsPt"
      },
      "source": [
        "# Create dataset for training KGE model\n",
        "X_train = all_data[['head', 'relation', 'tail']].values"
      ],
      "execution_count": null,
      "outputs": []
    },
    {
      "cell_type": "markdown",
      "metadata": {
        "id": "B4K6pcQ382Mk"
      },
      "source": [
        "**CompLex Model**"
      ]
    },
    {
      "cell_type": "code",
      "metadata": {
        "id": "lEzFZIV09ufN"
      },
      "source": [
        "# # Train a KGE model\n",
        "# embedding_model = ComplEx(k=300, \n",
        "#                epochs=500, \n",
        "#                eta=3, \n",
        "#                loss='nll', \n",
        "#                initializer='xavier', initializer_params={'uniform': False},\n",
        "#                regularizer='LP', regularizer_params= {'lambda': 0.0001, 'p': 3},\n",
        "#                optimizer= 'adam', optimizer_params= {'lr': 0.0001}, \n",
        "#                seed= 0, batches_count= 10, verbose=True)\n",
        "\n",
        "# embedding_model.fit(X_train)\n",
        "# # ----------------------\n",
        "\n",
        "# # Save model\n",
        "# save_model(embedding_model, '/content/drive/MyDrive/Unicredit/Complex.pkl')\n",
        "\n",
        "# Read model\n",
        "# embedding_model = restore_model('/content/drive/MyDrive/Unicredit/Complex.pkl')\n",
        "\n"
      ],
      "execution_count": null,
      "outputs": []
    },
    {
      "cell_type": "markdown",
      "metadata": {
        "id": "M7mbYkav89Vp"
      },
      "source": [
        "**ConvKB Model**"
      ]
    },
    {
      "cell_type": "code",
      "metadata": {
        "id": "WgCVKwRMOvUH"
      },
      "source": [
        "# # Train a KGE model\n",
        "# embedding_model = ConvKB(k=300, \n",
        "#                epochs=500, \n",
        "#                eta=3, \n",
        "#                loss='nll', \n",
        "#                initializer='xavier', initializer_params={'uniform': False},\n",
        "#                regularizer='LP', regularizer_params= {'lambda': 0.0001, 'p': 3},\n",
        "#                optimizer= 'adam', optimizer_params= {'lr': 0.0001}, \n",
        "#                seed= 0, batches_count= 10, verbose=True)\n",
        "\n",
        "# embedding_model.fit(X_train)\n",
        "# # ----------------------\n",
        "\n",
        "# # Save model\n",
        "# save_model(embedding_model, '/content/drive/MyDrive/Unicredit/ConvKB.pkl')\n",
        "\n",
        "# # Read model\n",
        "# embedding_model = restore_model('/content/drive/MyDrive/Unicredit/ConvKB.pkl')"
      ],
      "execution_count": null,
      "outputs": []
    },
    {
      "cell_type": "markdown",
      "metadata": {
        "id": "RZwE4q_xSKKx"
      },
      "source": [
        "**TransE Model**"
      ]
    },
    {
      "cell_type": "code",
      "metadata": {
        "id": "JwPpIKb8WQCB",
        "colab": {
          "base_uri": "https://localhost:8080/"
        },
        "outputId": "647d84b2-dd84-481c-c109-4759e97ad148"
      },
      "source": [
        "# Train a KGE model\n",
        "embedding_model = TransE(k=300, \n",
        "               epochs=200, \n",
        "               eta=3, \n",
        "               loss='nll', \n",
        "               initializer='xavier', initializer_params={'uniform': False},\n",
        "               regularizer='LP', regularizer_params= {'lambda': 0.0001, 'p': 3},\n",
        "               optimizer= 'adam', optimizer_params= {'lr': 0.0001}, \n",
        "               seed= 0, batches_count= 10, verbose=True)\n",
        "\n",
        "embedding_model.fit(X_train)\n",
        "# ----------------------\n",
        "\n",
        "# Save model\n",
        "save_model(embedding_model, '/content/drive/MyDrive/Unicredit/TransE')\n",
        "\n",
        "# Read model\n",
        "embedding_model = restore_model('/content/drive/MyDrive/Unicredit/TransE')"
      ],
      "execution_count": null,
      "outputs": [
        {
          "output_type": "stream",
          "text": [
            "Average TransE Loss:   1.222616: 100%|██████████| 200/200 [00:42<00:00,  4.71epoch/s]\n"
          ],
          "name": "stderr"
        }
      ]
    },
    {
      "cell_type": "code",
      "metadata": {
        "id": "VRvjl7VfO1AW"
      },
      "source": [
        "# Get head embedding\n",
        "head_embedding = embedding_model.get_embeddings(entities = all_data['head'].values.tolist())\n",
        "\n",
        "# Get relation embedding\n",
        "relation_embedding = embedding_model.get_embeddings(all_data['relation'].values.tolist(), embedding_type='relation')\n",
        "\n",
        "# Get tail embedding\n",
        "tail_embedding = embedding_model.get_embeddings(entities = all_data['tail'].values.tolist())"
      ],
      "execution_count": null,
      "outputs": []
    },
    {
      "cell_type": "code",
      "metadata": {
        "id": "mVsE8RnyLo_N"
      },
      "source": [
        "# Concat head, relation, tail embedding to a triple_embedding\n",
        "triple_embedding = np.concatenate((head_embedding, relation_embedding, tail_embedding), axis=1)"
      ],
      "execution_count": null,
      "outputs": []
    },
    {
      "cell_type": "code",
      "metadata": {
        "id": "Ycn6JiLbLgh3",
        "colab": {
          "base_uri": "https://localhost:8080/"
        },
        "outputId": "1395d1c5-0503-4844-9e9d-b59c2439ceee"
      },
      "source": [
        "triple_embedding.shape"
      ],
      "execution_count": null,
      "outputs": [
        {
          "output_type": "execute_result",
          "data": {
            "text/plain": [
              "(143444, 900)"
            ]
          },
          "metadata": {
            "tags": []
          },
          "execution_count": 16
        }
      ]
    },
    {
      "cell_type": "markdown",
      "metadata": {
        "id": "xS68VJIPql9t"
      },
      "source": [
        "## Builing ML Model\n",
        "### Split data"
      ]
    },
    {
      "cell_type": "code",
      "metadata": {
        "id": "hOPTS3kARJjY",
        "colab": {
          "base_uri": "https://localhost:8080/"
        },
        "outputId": "ddc24d03-5a4c-4323-d797-8c00ae81edc9"
      },
      "source": [
        "# x_train dataset including train and validation model\n",
        "x_train = triple_embedding[:114754, :]\n",
        "x_train.shape"
      ],
      "execution_count": null,
      "outputs": [
        {
          "output_type": "execute_result",
          "data": {
            "text/plain": [
              "(114754, 900)"
            ]
          },
          "metadata": {
            "tags": []
          },
          "execution_count": 17
        }
      ]
    },
    {
      "cell_type": "code",
      "metadata": {
        "id": "_9MO6kpTReOA",
        "colab": {
          "base_uri": "https://localhost:8080/"
        },
        "outputId": "b0eaa0fc-d323-4635-dfc4-d9e0364161b6"
      },
      "source": [
        "# y_train: label of x_train dataset\n",
        "y_train = train_valid_data.Label.values\n",
        "y_train.shape"
      ],
      "execution_count": null,
      "outputs": [
        {
          "output_type": "execute_result",
          "data": {
            "text/plain": [
              "(114754,)"
            ]
          },
          "metadata": {
            "tags": []
          },
          "execution_count": 18
        }
      ]
    },
    {
      "cell_type": "markdown",
      "metadata": {
        "id": "YgXykGxQrAAW"
      },
      "source": [
        "### Neural Network Model"
      ]
    },
    {
      "cell_type": "code",
      "metadata": {
        "id": "cuVkDFQhC5jV"
      },
      "source": [
        "# Create model\n",
        "model = Sequential()\n",
        "model.add(Dense(600, activation='relu', input_dim=x_train.shape[1]))\n",
        "\n",
        "model.add(Dense(300, activation='relu'))\n",
        "\n",
        "model.add(Dense(150, activation='relu'))\n",
        "model.add(Dense(1, activation='sigmoid'))\n",
        "\n",
        "# Compile the model\n",
        "model.compile(optimizer='adam', \n",
        "              loss=keras.losses.binary_crossentropy, \n",
        "              metrics=['accuracy'])"
      ],
      "execution_count": null,
      "outputs": []
    },
    {
      "cell_type": "code",
      "metadata": {
        "id": "dED0qFZgaOWA",
        "colab": {
          "base_uri": "https://localhost:8080/"
        },
        "outputId": "f9d3155d-7fb9-4023-ac09-04548a3b91e7"
      },
      "source": [
        "# Fit Model\n",
        "model.fit(x_train, y_train, epochs=100, verbose=1, shuffle = True, batch_size=32)"
      ],
      "execution_count": null,
      "outputs": [
        {
          "output_type": "stream",
          "text": [
            "Epoch 1/100\n",
            "114754/114754 [==============================] - 12s 106us/step - loss: 0.6649 - accuracy: 0.5604\n",
            "Epoch 2/100\n",
            "114754/114754 [==============================] - 12s 106us/step - loss: 0.5831 - accuracy: 0.6665\n",
            "Epoch 3/100\n",
            "114754/114754 [==============================] - 12s 106us/step - loss: 0.5212 - accuracy: 0.7177\n",
            "Epoch 4/100\n",
            "114754/114754 [==============================] - 12s 107us/step - loss: 0.4736 - accuracy: 0.7525\n",
            "Epoch 5/100\n",
            "114754/114754 [==============================] - 12s 106us/step - loss: 0.4322 - accuracy: 0.7822\n",
            "Epoch 6/100\n",
            "114754/114754 [==============================] - 12s 104us/step - loss: 0.3922 - accuracy: 0.8081\n",
            "Epoch 7/100\n",
            "114754/114754 [==============================] - 12s 104us/step - loss: 0.3525 - accuracy: 0.8334\n",
            "Epoch 8/100\n",
            "114754/114754 [==============================] - 12s 104us/step - loss: 0.3182 - accuracy: 0.8531\n",
            "Epoch 9/100\n",
            "114754/114754 [==============================] - 12s 104us/step - loss: 0.2839 - accuracy: 0.8714\n",
            "Epoch 10/100\n",
            "114754/114754 [==============================] - 12s 106us/step - loss: 0.2533 - accuracy: 0.8880\n",
            "Epoch 11/100\n",
            "114754/114754 [==============================] - 12s 105us/step - loss: 0.2272 - accuracy: 0.9017\n",
            "Epoch 12/100\n",
            "114754/114754 [==============================] - 12s 107us/step - loss: 0.2015 - accuracy: 0.9137\n",
            "Epoch 13/100\n",
            "114754/114754 [==============================] - 12s 105us/step - loss: 0.1830 - accuracy: 0.9233\n",
            "Epoch 14/100\n",
            "114754/114754 [==============================] - 12s 106us/step - loss: 0.1633 - accuracy: 0.9326\n",
            "Epoch 15/100\n",
            "114754/114754 [==============================] - 12s 105us/step - loss: 0.1489 - accuracy: 0.9393\n",
            "Epoch 16/100\n",
            "114754/114754 [==============================] - 12s 103us/step - loss: 0.1344 - accuracy: 0.9462\n",
            "Epoch 17/100\n",
            "114754/114754 [==============================] - 12s 103us/step - loss: 0.1232 - accuracy: 0.9515\n",
            "Epoch 18/100\n",
            "114754/114754 [==============================] - 12s 104us/step - loss: 0.1126 - accuracy: 0.9571\n",
            "Epoch 19/100\n",
            "114754/114754 [==============================] - 12s 107us/step - loss: 0.1027 - accuracy: 0.9610\n",
            "Epoch 20/100\n",
            "114754/114754 [==============================] - 12s 105us/step - loss: 0.0963 - accuracy: 0.9641\n",
            "Epoch 21/100\n",
            "114754/114754 [==============================] - 12s 105us/step - loss: 0.0902 - accuracy: 0.9668\n",
            "Epoch 22/100\n",
            "114754/114754 [==============================] - 12s 105us/step - loss: 0.0829 - accuracy: 0.9695\n",
            "Epoch 23/100\n",
            "114754/114754 [==============================] - 12s 105us/step - loss: 0.0798 - accuracy: 0.9711\n",
            "Epoch 24/100\n",
            "114754/114754 [==============================] - 12s 108us/step - loss: 0.0744 - accuracy: 0.9736\n",
            "Epoch 25/100\n",
            "114754/114754 [==============================] - 12s 107us/step - loss: 0.0697 - accuracy: 0.9748\n",
            "Epoch 26/100\n",
            "114754/114754 [==============================] - 12s 106us/step - loss: 0.0677 - accuracy: 0.9762\n",
            "Epoch 27/100\n",
            "114754/114754 [==============================] - 12s 106us/step - loss: 0.0615 - accuracy: 0.9788\n",
            "Epoch 28/100\n",
            "114754/114754 [==============================] - 12s 107us/step - loss: 0.0607 - accuracy: 0.9791\n",
            "Epoch 29/100\n",
            "114754/114754 [==============================] - 12s 105us/step - loss: 0.0571 - accuracy: 0.9807\n",
            "Epoch 30/100\n",
            "114754/114754 [==============================] - 12s 106us/step - loss: 0.0571 - accuracy: 0.9802\n",
            "Epoch 31/100\n",
            "114754/114754 [==============================] - 12s 104us/step - loss: 0.0532 - accuracy: 0.9817\n",
            "Epoch 32/100\n",
            "114754/114754 [==============================] - 12s 107us/step - loss: 0.0501 - accuracy: 0.9827\n",
            "Epoch 33/100\n",
            "114754/114754 [==============================] - 12s 105us/step - loss: 0.0493 - accuracy: 0.9832\n",
            "Epoch 34/100\n",
            "114754/114754 [==============================] - 12s 106us/step - loss: 0.0480 - accuracy: 0.9841\n",
            "Epoch 35/100\n",
            "114754/114754 [==============================] - 12s 105us/step - loss: 0.0460 - accuracy: 0.9842\n",
            "Epoch 36/100\n",
            "114754/114754 [==============================] - 12s 105us/step - loss: 0.0450 - accuracy: 0.9849\n",
            "Epoch 37/100\n",
            "114754/114754 [==============================] - 12s 107us/step - loss: 0.0429 - accuracy: 0.9860\n",
            "Epoch 38/100\n",
            "114754/114754 [==============================] - 12s 108us/step - loss: 0.0424 - accuracy: 0.9861\n",
            "Epoch 39/100\n",
            "114754/114754 [==============================] - 12s 106us/step - loss: 0.0408 - accuracy: 0.9865\n",
            "Epoch 40/100\n",
            "114754/114754 [==============================] - 12s 105us/step - loss: 0.0398 - accuracy: 0.9864\n",
            "Epoch 41/100\n",
            "114754/114754 [==============================] - 12s 105us/step - loss: 0.0393 - accuracy: 0.9870\n",
            "Epoch 42/100\n",
            "114754/114754 [==============================] - 12s 105us/step - loss: 0.0361 - accuracy: 0.9884\n",
            "Epoch 43/100\n",
            "114754/114754 [==============================] - 12s 106us/step - loss: 0.0363 - accuracy: 0.9878\n",
            "Epoch 44/100\n",
            "114754/114754 [==============================] - 12s 107us/step - loss: 0.0359 - accuracy: 0.9884\n",
            "Epoch 45/100\n",
            "114754/114754 [==============================] - 12s 107us/step - loss: 0.0345 - accuracy: 0.9883\n",
            "Epoch 46/100\n",
            "114754/114754 [==============================] - 12s 107us/step - loss: 0.0338 - accuracy: 0.9892\n",
            "Epoch 47/100\n",
            "114754/114754 [==============================] - 12s 106us/step - loss: 0.0322 - accuracy: 0.9899\n",
            "Epoch 48/100\n",
            "114754/114754 [==============================] - 12s 107us/step - loss: 0.0338 - accuracy: 0.9895\n",
            "Epoch 49/100\n",
            "114754/114754 [==============================] - 12s 106us/step - loss: 0.0321 - accuracy: 0.9897\n",
            "Epoch 50/100\n",
            "114754/114754 [==============================] - 12s 107us/step - loss: 0.0302 - accuracy: 0.9908\n",
            "Epoch 51/100\n",
            "114754/114754 [==============================] - 12s 106us/step - loss: 0.0312 - accuracy: 0.9900\n",
            "Epoch 52/100\n",
            "114754/114754 [==============================] - 12s 107us/step - loss: 0.0287 - accuracy: 0.9906\n",
            "Epoch 53/100\n",
            "114754/114754 [==============================] - 12s 107us/step - loss: 0.0288 - accuracy: 0.9909\n",
            "Epoch 54/100\n",
            "114754/114754 [==============================] - 12s 107us/step - loss: 0.0303 - accuracy: 0.9907\n",
            "Epoch 55/100\n",
            "114754/114754 [==============================] - 12s 105us/step - loss: 0.0279 - accuracy: 0.9914\n",
            "Epoch 56/100\n",
            "114754/114754 [==============================] - 12s 107us/step - loss: 0.0274 - accuracy: 0.9915\n",
            "Epoch 57/100\n",
            "114754/114754 [==============================] - 12s 106us/step - loss: 0.0254 - accuracy: 0.9924\n",
            "Epoch 58/100\n",
            "114754/114754 [==============================] - 12s 107us/step - loss: 0.0267 - accuracy: 0.9918\n",
            "Epoch 59/100\n",
            "114754/114754 [==============================] - 12s 107us/step - loss: 0.0245 - accuracy: 0.9926\n",
            "Epoch 60/100\n",
            "114754/114754 [==============================] - 12s 105us/step - loss: 0.0262 - accuracy: 0.9918\n",
            "Epoch 61/100\n",
            "114754/114754 [==============================] - 12s 106us/step - loss: 0.0249 - accuracy: 0.9922\n",
            "Epoch 62/100\n",
            "114754/114754 [==============================] - 12s 107us/step - loss: 0.0252 - accuracy: 0.9924\n",
            "Epoch 63/100\n",
            "114754/114754 [==============================] - 12s 107us/step - loss: 0.0231 - accuracy: 0.9930\n",
            "Epoch 64/100\n",
            "114754/114754 [==============================] - 12s 106us/step - loss: 0.0239 - accuracy: 0.9930\n",
            "Epoch 65/100\n",
            "114754/114754 [==============================] - 12s 105us/step - loss: 0.0225 - accuracy: 0.9930\n",
            "Epoch 66/100\n",
            "114754/114754 [==============================] - 12s 107us/step - loss: 0.0229 - accuracy: 0.9931\n",
            "Epoch 67/100\n",
            "114754/114754 [==============================] - 12s 108us/step - loss: 0.0222 - accuracy: 0.9934\n",
            "Epoch 68/100\n",
            "114754/114754 [==============================] - 12s 108us/step - loss: 0.0230 - accuracy: 0.9936\n",
            "Epoch 69/100\n",
            "114754/114754 [==============================] - 12s 106us/step - loss: 0.0230 - accuracy: 0.9936\n",
            "Epoch 70/100\n",
            "114754/114754 [==============================] - 12s 107us/step - loss: 0.0211 - accuracy: 0.9934\n",
            "Epoch 71/100\n",
            "114754/114754 [==============================] - 12s 109us/step - loss: 0.0237 - accuracy: 0.9932\n",
            "Epoch 72/100\n",
            "114754/114754 [==============================] - 12s 106us/step - loss: 0.0216 - accuracy: 0.9937\n",
            "Epoch 73/100\n",
            "114754/114754 [==============================] - 12s 108us/step - loss: 0.0195 - accuracy: 0.9944\n",
            "Epoch 74/100\n",
            "114754/114754 [==============================] - 12s 106us/step - loss: 0.0209 - accuracy: 0.9944\n",
            "Epoch 75/100\n",
            "114754/114754 [==============================] - 12s 107us/step - loss: 0.0197 - accuracy: 0.9942\n",
            "Epoch 76/100\n",
            "114754/114754 [==============================] - 12s 107us/step - loss: 0.0196 - accuracy: 0.9941\n",
            "Epoch 77/100\n",
            "114754/114754 [==============================] - 12s 106us/step - loss: 0.0193 - accuracy: 0.9941\n",
            "Epoch 78/100\n",
            "114754/114754 [==============================] - 12s 108us/step - loss: 0.0195 - accuracy: 0.9942\n",
            "Epoch 79/100\n",
            "114754/114754 [==============================] - 12s 107us/step - loss: 0.0199 - accuracy: 0.9941\n",
            "Epoch 80/100\n",
            "114754/114754 [==============================] - 12s 107us/step - loss: 0.0179 - accuracy: 0.9947\n",
            "Epoch 81/100\n",
            "114754/114754 [==============================] - 12s 107us/step - loss: 0.0182 - accuracy: 0.9944\n",
            "Epoch 82/100\n",
            "114754/114754 [==============================] - 12s 106us/step - loss: 0.0168 - accuracy: 0.9949\n",
            "Epoch 83/100\n",
            "114754/114754 [==============================] - 12s 107us/step - loss: 0.0193 - accuracy: 0.9946\n",
            "Epoch 84/100\n",
            "114754/114754 [==============================] - 12s 107us/step - loss: 0.0182 - accuracy: 0.9947\n",
            "Epoch 85/100\n",
            "114754/114754 [==============================] - 12s 108us/step - loss: 0.0175 - accuracy: 0.9950\n",
            "Epoch 86/100\n",
            "114754/114754 [==============================] - 12s 107us/step - loss: 0.0171 - accuracy: 0.9953\n",
            "Epoch 87/100\n",
            "114754/114754 [==============================] - 12s 107us/step - loss: 0.0169 - accuracy: 0.9951\n",
            "Epoch 88/100\n",
            "114754/114754 [==============================] - 12s 109us/step - loss: 0.0182 - accuracy: 0.9948\n",
            "Epoch 89/100\n",
            "114754/114754 [==============================] - 12s 107us/step - loss: 0.0158 - accuracy: 0.9953\n",
            "Epoch 90/100\n",
            "114754/114754 [==============================] - 12s 105us/step - loss: 0.0164 - accuracy: 0.9951\n",
            "Epoch 91/100\n",
            "114754/114754 [==============================] - 12s 107us/step - loss: 0.0165 - accuracy: 0.9952\n",
            "Epoch 92/100\n",
            "114754/114754 [==============================] - 12s 108us/step - loss: 0.0161 - accuracy: 0.9952\n",
            "Epoch 93/100\n",
            "114754/114754 [==============================] - 13s 110us/step - loss: 0.0157 - accuracy: 0.9957\n",
            "Epoch 94/100\n",
            "114754/114754 [==============================] - 12s 109us/step - loss: 0.0161 - accuracy: 0.9954\n",
            "Epoch 95/100\n",
            "114754/114754 [==============================] - 12s 108us/step - loss: 0.0154 - accuracy: 0.9954\n",
            "Epoch 96/100\n",
            "114754/114754 [==============================] - 12s 106us/step - loss: 0.0166 - accuracy: 0.9954\n",
            "Epoch 97/100\n",
            "114754/114754 [==============================] - 12s 109us/step - loss: 0.0157 - accuracy: 0.9954\n",
            "Epoch 98/100\n",
            "114754/114754 [==============================] - 12s 109us/step - loss: 0.0153 - accuracy: 0.9958\n",
            "Epoch 99/100\n",
            "114754/114754 [==============================] - 12s 108us/step - loss: 0.0161 - accuracy: 0.9957\n",
            "Epoch 100/100\n",
            "114754/114754 [==============================] - 12s 109us/step - loss: 0.0145 - accuracy: 0.9961\n"
          ],
          "name": "stdout"
        },
        {
          "output_type": "execute_result",
          "data": {
            "text/plain": [
              "<keras.callbacks.callbacks.History at 0x7ff61a92c050>"
            ]
          },
          "metadata": {
            "tags": []
          },
          "execution_count": 37
        }
      ]
    },
    {
      "cell_type": "code",
      "metadata": {
        "id": "Sj_ZEK48vQst"
      },
      "source": [
        "# Save DL model\n",
        "model.save('/content/drive/MyDrive/Unicredit/NN_model')"
      ],
      "execution_count": null,
      "outputs": []
    },
    {
      "cell_type": "code",
      "metadata": {
        "id": "bvB9gYYoapYc",
        "colab": {
          "base_uri": "https://localhost:8080/"
        },
        "outputId": "ac4e0055-b329-43e8-e524-709e3fcd7f46"
      },
      "source": [
        "# Evaluate the train dataset\n",
        "pred_train= model.predict(x_train)\n",
        "scores = model.evaluate(x_train, y_train, verbose=0)\n",
        "print('Accuracy on training data: {}% \\n Error on training data: {}'.format(scores[1], 1 - scores[1]))   "
      ],
      "execution_count": null,
      "outputs": [
        {
          "output_type": "stream",
          "text": [
            "Accuracy on training data: 0.9973944425582886% \n",
            " Error on training data: 0.0026055574417114258\n"
          ],
          "name": "stdout"
        }
      ]
    },
    {
      "cell_type": "markdown",
      "metadata": {
        "id": "GKWu7oN-rbm7"
      },
      "source": [
        "### Predict the test dataset"
      ]
    },
    {
      "cell_type": "code",
      "metadata": {
        "id": "Aq0DmnIDgojs",
        "colab": {
          "base_uri": "https://localhost:8080/"
        },
        "outputId": "d48844e6-6208-4c44-ead5-9d2030d13761"
      },
      "source": [
        "# create x_test dataset\n",
        "x_test = triple_embedding[114754:, :]\n",
        "x_test.shape"
      ],
      "execution_count": null,
      "outputs": [
        {
          "output_type": "execute_result",
          "data": {
            "text/plain": [
              "(28690, 900)"
            ]
          },
          "metadata": {
            "tags": []
          },
          "execution_count": 39
        }
      ]
    },
    {
      "cell_type": "code",
      "metadata": {
        "id": "GcaezieIgzaa"
      },
      "source": [
        "# Predict test dataset\n",
        "pred_test = model.predict(x_test)"
      ],
      "execution_count": null,
      "outputs": []
    },
    {
      "cell_type": "code",
      "metadata": {
        "id": "fGo1QxW6hGqn"
      },
      "source": [
        "# with value of pred_test greater than threshold is positive, otherwise negative\n",
        "y_pred = []\n",
        "threshold = 0.5\n",
        "for i in pred_test:\n",
        "    if i >= threshold:\n",
        "        y_pred.append(1)\n",
        "    else:  y_pred.append(0)"
      ],
      "execution_count": null,
      "outputs": []
    },
    {
      "cell_type": "code",
      "metadata": {
        "id": "EjUByBbZh2Vc",
        "colab": {
          "base_uri": "https://localhost:8080/",
          "height": 420
        },
        "outputId": "7755aef5-fa90-4656-a23d-e464927c401c"
      },
      "source": [
        "test_data['Predicted'] = y_pred\n",
        "result = test_data[['Id', 'Predicted']]\n",
        "result"
      ],
      "execution_count": null,
      "outputs": [
        {
          "output_type": "execute_result",
          "data": {
            "text/html": [
              "<div>\n",
              "<style scoped>\n",
              "    .dataframe tbody tr th:only-of-type {\n",
              "        vertical-align: middle;\n",
              "    }\n",
              "\n",
              "    .dataframe tbody tr th {\n",
              "        vertical-align: top;\n",
              "    }\n",
              "\n",
              "    .dataframe thead th {\n",
              "        text-align: right;\n",
              "    }\n",
              "</style>\n",
              "<table border=\"1\" class=\"dataframe\">\n",
              "  <thead>\n",
              "    <tr style=\"text-align: right;\">\n",
              "      <th></th>\n",
              "      <th>Id</th>\n",
              "      <th>Predicted</th>\n",
              "    </tr>\n",
              "  </thead>\n",
              "  <tbody>\n",
              "    <tr>\n",
              "      <th>0</th>\n",
              "      <td>114754</td>\n",
              "      <td>0</td>\n",
              "    </tr>\n",
              "    <tr>\n",
              "      <th>1</th>\n",
              "      <td>114755</td>\n",
              "      <td>0</td>\n",
              "    </tr>\n",
              "    <tr>\n",
              "      <th>2</th>\n",
              "      <td>114756</td>\n",
              "      <td>1</td>\n",
              "    </tr>\n",
              "    <tr>\n",
              "      <th>3</th>\n",
              "      <td>114757</td>\n",
              "      <td>0</td>\n",
              "    </tr>\n",
              "    <tr>\n",
              "      <th>4</th>\n",
              "      <td>114758</td>\n",
              "      <td>1</td>\n",
              "    </tr>\n",
              "    <tr>\n",
              "      <th>...</th>\n",
              "      <td>...</td>\n",
              "      <td>...</td>\n",
              "    </tr>\n",
              "    <tr>\n",
              "      <th>28685</th>\n",
              "      <td>143439</td>\n",
              "      <td>1</td>\n",
              "    </tr>\n",
              "    <tr>\n",
              "      <th>28686</th>\n",
              "      <td>143440</td>\n",
              "      <td>0</td>\n",
              "    </tr>\n",
              "    <tr>\n",
              "      <th>28687</th>\n",
              "      <td>143441</td>\n",
              "      <td>1</td>\n",
              "    </tr>\n",
              "    <tr>\n",
              "      <th>28688</th>\n",
              "      <td>143442</td>\n",
              "      <td>1</td>\n",
              "    </tr>\n",
              "    <tr>\n",
              "      <th>28689</th>\n",
              "      <td>143443</td>\n",
              "      <td>0</td>\n",
              "    </tr>\n",
              "  </tbody>\n",
              "</table>\n",
              "<p>28690 rows × 2 columns</p>\n",
              "</div>"
            ],
            "text/plain": [
              "           Id  Predicted\n",
              "0      114754          0\n",
              "1      114755          0\n",
              "2      114756          1\n",
              "3      114757          0\n",
              "4      114758          1\n",
              "...       ...        ...\n",
              "28685  143439          1\n",
              "28686  143440          0\n",
              "28687  143441          1\n",
              "28688  143442          1\n",
              "28689  143443          0\n",
              "\n",
              "[28690 rows x 2 columns]"
            ]
          },
          "metadata": {
            "tags": []
          },
          "execution_count": 42
        }
      ]
    },
    {
      "cell_type": "code",
      "metadata": {
        "colab": {
          "base_uri": "https://localhost:8080/"
        },
        "id": "ezP7Udqj7GAu",
        "outputId": "e69bbffb-7f5a-4132-fd98-ae531b79f894"
      },
      "source": [
        "result.Predicted.value_counts()"
      ],
      "execution_count": null,
      "outputs": [
        {
          "output_type": "execute_result",
          "data": {
            "text/plain": [
              "1    15975\n",
              "0    12715\n",
              "Name: Predicted, dtype: int64"
            ]
          },
          "metadata": {
            "tags": []
          },
          "execution_count": 43
        }
      ]
    },
    {
      "cell_type": "code",
      "metadata": {
        "id": "uI8CH-EniRY5"
      },
      "source": [
        "# Save test dataset predict result\n",
        "result.to_csv('/content/drive/MyDrive/Unicredit/submit1.csv', index=False)"
      ],
      "execution_count": null,
      "outputs": []
    }
  ]
}